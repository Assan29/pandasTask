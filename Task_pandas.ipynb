{
 "cells": [
  {
   "cell_type": "code",
   "execution_count": 2,
   "id": "3367b017",
   "metadata": {},
   "outputs": [],
   "source": [
    "import pandas as pd , numpy as np"
   ]
  },
  {
   "cell_type": "code",
   "execution_count": 3,
   "id": "d7791466",
   "metadata": {},
   "outputs": [],
   "source": [
    "df = pd.read_csv(r\"C:\\Users\\kalag\\Downloads\\csv_files\\Sales_Data.csv\")"
   ]
  },
  {
   "cell_type": "code",
   "execution_count": 4,
   "id": "43cd6b92",
   "metadata": {},
   "outputs": [
    {
     "data": {
      "text/html": [
       "<div>\n",
       "<style scoped>\n",
       "    .dataframe tbody tr th:only-of-type {\n",
       "        vertical-align: middle;\n",
       "    }\n",
       "\n",
       "    .dataframe tbody tr th {\n",
       "        vertical-align: top;\n",
       "    }\n",
       "\n",
       "    .dataframe thead th {\n",
       "        text-align: right;\n",
       "    }\n",
       "</style>\n",
       "<table border=\"1\" class=\"dataframe\">\n",
       "  <thead>\n",
       "    <tr style=\"text-align: right;\">\n",
       "      <th></th>\n",
       "      <th>Region</th>\n",
       "      <th>Country</th>\n",
       "      <th>Item_Type</th>\n",
       "      <th>Sales_Channel</th>\n",
       "      <th>Order_Priority</th>\n",
       "      <th>Order_Date</th>\n",
       "      <th>Order_ID</th>\n",
       "      <th>Ship_Date</th>\n",
       "      <th>Units_Sold</th>\n",
       "      <th>Unit_SellingPrice</th>\n",
       "      <th>Unit_MakingCost</th>\n",
       "      <th>Total_Revenue</th>\n",
       "      <th>Total_Cost</th>\n",
       "      <th>Total_Profit</th>\n",
       "    </tr>\n",
       "  </thead>\n",
       "  <tbody>\n",
       "    <tr>\n",
       "      <th>0</th>\n",
       "      <td>Central America and the Caribbean</td>\n",
       "      <td>Antigua and Barbuda</td>\n",
       "      <td>Baby Food</td>\n",
       "      <td>Online</td>\n",
       "      <td>M</td>\n",
       "      <td>12/20/2013</td>\n",
       "      <td>957081544.0</td>\n",
       "      <td>01-11-2014</td>\n",
       "      <td>552</td>\n",
       "      <td>255.28</td>\n",
       "      <td>159.42</td>\n",
       "      <td>140914.56</td>\n",
       "      <td>87999.84</td>\n",
       "      <td>52914.72</td>\n",
       "    </tr>\n",
       "    <tr>\n",
       "      <th>1</th>\n",
       "      <td>Central America and the Caribbean</td>\n",
       "      <td>Panama</td>\n",
       "      <td>Snacks</td>\n",
       "      <td>Offline</td>\n",
       "      <td>C</td>\n",
       "      <td>07-05-2010</td>\n",
       "      <td>301644504.0</td>\n",
       "      <td>7/26/2010</td>\n",
       "      <td>2167</td>\n",
       "      <td>152.58</td>\n",
       "      <td>97.44</td>\n",
       "      <td>330640.86</td>\n",
       "      <td>211152.48</td>\n",
       "      <td>119488.38</td>\n",
       "    </tr>\n",
       "    <tr>\n",
       "      <th>2</th>\n",
       "      <td>Europe</td>\n",
       "      <td>Czech Republic</td>\n",
       "      <td>Beverages</td>\n",
       "      <td>Offline</td>\n",
       "      <td>C</td>\n",
       "      <td>09-12-2011</td>\n",
       "      <td>478051030.0</td>\n",
       "      <td>9/29/2011</td>\n",
       "      <td>4778</td>\n",
       "      <td>47.45</td>\n",
       "      <td>31.79</td>\n",
       "      <td>226716.10</td>\n",
       "      <td>151892.62</td>\n",
       "      <td>74823.48</td>\n",
       "    </tr>\n",
       "    <tr>\n",
       "      <th>3</th>\n",
       "      <td>Asia</td>\n",
       "      <td>North Korea</td>\n",
       "      <td>Cereal</td>\n",
       "      <td>Offline</td>\n",
       "      <td>L</td>\n",
       "      <td>5/13/2010</td>\n",
       "      <td>892599952.0</td>\n",
       "      <td>6/15/2010</td>\n",
       "      <td>9016</td>\n",
       "      <td>205.70</td>\n",
       "      <td>117.11</td>\n",
       "      <td>1854591.20</td>\n",
       "      <td>1055863.76</td>\n",
       "      <td>798727.44</td>\n",
       "    </tr>\n",
       "    <tr>\n",
       "      <th>4</th>\n",
       "      <td>Asia</td>\n",
       "      <td>Sri Lanka</td>\n",
       "      <td>Snacks</td>\n",
       "      <td>Offline</td>\n",
       "      <td>C</td>\n",
       "      <td>7/20/2015</td>\n",
       "      <td>571902596.0</td>\n",
       "      <td>7/27/2015</td>\n",
       "      <td>7542</td>\n",
       "      <td>152.58</td>\n",
       "      <td>97.44</td>\n",
       "      <td>1150758.36</td>\n",
       "      <td>734892.48</td>\n",
       "      <td>415865.88</td>\n",
       "    </tr>\n",
       "  </tbody>\n",
       "</table>\n",
       "</div>"
      ],
      "text/plain": [
       "                              Region               Country  Item_Type  \\\n",
       "0  Central America and the Caribbean  Antigua and Barbuda   Baby Food   \n",
       "1  Central America and the Caribbean                Panama     Snacks   \n",
       "2                             Europe        Czech Republic  Beverages   \n",
       "3                               Asia           North Korea     Cereal   \n",
       "4                               Asia             Sri Lanka     Snacks   \n",
       "\n",
       "  Sales_Channel Order_Priority  Order_Date     Order_ID   Ship_Date  \\\n",
       "0        Online              M  12/20/2013  957081544.0  01-11-2014   \n",
       "1       Offline              C  07-05-2010  301644504.0   7/26/2010   \n",
       "2       Offline              C  09-12-2011  478051030.0   9/29/2011   \n",
       "3       Offline              L   5/13/2010  892599952.0   6/15/2010   \n",
       "4       Offline              C   7/20/2015  571902596.0   7/27/2015   \n",
       "\n",
       "   Units_Sold  Unit_SellingPrice  Unit_MakingCost  Total_Revenue  Total_Cost  \\\n",
       "0         552             255.28           159.42      140914.56    87999.84   \n",
       "1        2167             152.58            97.44      330640.86   211152.48   \n",
       "2        4778              47.45            31.79      226716.10   151892.62   \n",
       "3        9016             205.70           117.11     1854591.20  1055863.76   \n",
       "4        7542             152.58            97.44     1150758.36   734892.48   \n",
       "\n",
       "   Total_Profit  \n",
       "0      52914.72  \n",
       "1     119488.38  \n",
       "2      74823.48  \n",
       "3     798727.44  \n",
       "4     415865.88  "
      ]
     },
     "execution_count": 4,
     "metadata": {},
     "output_type": "execute_result"
    }
   ],
   "source": [
    "df.head()"
   ]
  },
  {
   "cell_type": "code",
   "execution_count": 7,
   "id": "54e7716a",
   "metadata": {},
   "outputs": [
    {
     "data": {
      "text/plain": [
       "(5000, 14)"
      ]
     },
     "execution_count": 7,
     "metadata": {},
     "output_type": "execute_result"
    }
   ],
   "source": [
    "df.shape    #----(rows,columns)"
   ]
  },
  {
   "cell_type": "code",
   "execution_count": 6,
   "id": "d053c747",
   "metadata": {},
   "outputs": [
    {
     "data": {
      "text/plain": [
       "Index(['Region', 'Country', 'Item_Type', 'Sales_Channel', 'Order_Priority',\n",
       "       'Order_Date', 'Order_ID', 'Ship_Date', 'Units_Sold',\n",
       "       'Unit_SellingPrice', 'Unit_MakingCost', 'Total_Revenue', 'Total_Cost',\n",
       "       'Total_Profit'],\n",
       "      dtype='object')"
      ]
     },
     "execution_count": 6,
     "metadata": {},
     "output_type": "execute_result"
    }
   ],
   "source": [
    "df.columns"
   ]
  },
  {
   "cell_type": "code",
   "execution_count": 18,
   "id": "58d03c25",
   "metadata": {},
   "outputs": [
    {
     "data": {
      "text/plain": [
       "Region                             Sales_Channel\n",
       "Asia                               Offline          339\n",
       "                                   Online           380\n",
       "Australia and Oceania              Offline          222\n",
       "                                   Online           194\n",
       "Central America and the Caribbean  Offline          271\n",
       "                                   Online           263\n",
       "Europe                             Offline          667\n",
       "                                   Online           663\n",
       "Middle East and North Africa       Offline          312\n",
       "                                   Online           298\n",
       "North America                      Offline           59\n",
       "                                   Online            47\n",
       "Sub-Saharan Africa                 Offline          634\n",
       "                                   Online           651\n",
       "Name: Units_Sold, dtype: int64"
      ]
     },
     "execution_count": 18,
     "metadata": {},
     "output_type": "execute_result"
    }
   ],
   "source": [
    "df.groupby(['Region','Sales_Channel'])['Units_Sold'].count()"
   ]
  },
  {
   "cell_type": "code",
   "execution_count": 22,
   "id": "f8f0a021",
   "metadata": {},
   "outputs": [
    {
     "data": {
      "text/html": [
       "<div>\n",
       "<style scoped>\n",
       "    .dataframe tbody tr th:only-of-type {\n",
       "        vertical-align: middle;\n",
       "    }\n",
       "\n",
       "    .dataframe tbody tr th {\n",
       "        vertical-align: top;\n",
       "    }\n",
       "\n",
       "    .dataframe thead tr th {\n",
       "        text-align: left;\n",
       "    }\n",
       "\n",
       "    .dataframe thead tr:last-of-type th {\n",
       "        text-align: right;\n",
       "    }\n",
       "</style>\n",
       "<table border=\"1\" class=\"dataframe\">\n",
       "  <thead>\n",
       "    <tr>\n",
       "      <th></th>\n",
       "      <th colspan=\"2\" halign=\"left\">count</th>\n",
       "    </tr>\n",
       "    <tr>\n",
       "      <th>Sales_Channel</th>\n",
       "      <th>Offline</th>\n",
       "      <th>Online</th>\n",
       "    </tr>\n",
       "    <tr>\n",
       "      <th>Region</th>\n",
       "      <th></th>\n",
       "      <th></th>\n",
       "    </tr>\n",
       "  </thead>\n",
       "  <tbody>\n",
       "    <tr>\n",
       "      <th>Asia</th>\n",
       "      <td>339</td>\n",
       "      <td>380</td>\n",
       "    </tr>\n",
       "    <tr>\n",
       "      <th>Australia and Oceania</th>\n",
       "      <td>222</td>\n",
       "      <td>194</td>\n",
       "    </tr>\n",
       "    <tr>\n",
       "      <th>Central America and the Caribbean</th>\n",
       "      <td>271</td>\n",
       "      <td>263</td>\n",
       "    </tr>\n",
       "    <tr>\n",
       "      <th>Europe</th>\n",
       "      <td>667</td>\n",
       "      <td>663</td>\n",
       "    </tr>\n",
       "    <tr>\n",
       "      <th>Middle East and North Africa</th>\n",
       "      <td>312</td>\n",
       "      <td>298</td>\n",
       "    </tr>\n",
       "    <tr>\n",
       "      <th>North America</th>\n",
       "      <td>59</td>\n",
       "      <td>47</td>\n",
       "    </tr>\n",
       "    <tr>\n",
       "      <th>Sub-Saharan Africa</th>\n",
       "      <td>634</td>\n",
       "      <td>651</td>\n",
       "    </tr>\n",
       "  </tbody>\n",
       "</table>\n",
       "</div>"
      ],
      "text/plain": [
       "                                    count       \n",
       "Sales_Channel                     Offline Online\n",
       "Region                                          \n",
       "Asia                                  339    380\n",
       "Australia and Oceania                 222    194\n",
       "Central America and the Caribbean     271    263\n",
       "Europe                                667    663\n",
       "Middle East and North Africa          312    298\n",
       "North America                          59     47\n",
       "Sub-Saharan Africa                    634    651"
      ]
     },
     "execution_count": 22,
     "metadata": {},
     "output_type": "execute_result"
    }
   ],
   "source": [
    "pd.crosstab(index = df['Region'],\n",
    "            columns = df['Sales_Channel'],\n",
    "            values = df['Units_Sold'],\n",
    "            aggfunc = ['count'])"
   ]
  },
  {
   "cell_type": "code",
   "execution_count": 30,
   "id": "27d13ed4",
   "metadata": {},
   "outputs": [
    {
     "data": {
      "text/plain": [
       "<Axes: xlabel='Region'>"
      ]
     },
     "execution_count": 30,
     "metadata": {},
     "output_type": "execute_result"
    },
    {
     "data": {
      "image/png": "[encoded data removed]",
      "text/plain": [
       "<Figure size 640x480 with 1 Axes>"
      ]
     },
     "metadata": {},
     "output_type": "display_data"
    }
   ],
   "source": [
    "pd.crosstab(index = df['Region'],\n",
    "            columns = df['Sales_Channel'],\n",
    "            values = df['Units_Sold'],\n",
    "            aggfunc = ['count']).plot(kind = 'bar')"
   ]
  },
  {
   "cell_type": "markdown",
   "id": "ab476aec",
   "metadata": {},
   "source": [
    "# insights:\n",
    "* From the above data we can see that most of people from `Europe` has **more number** of people of `sales_channel` of both **online and ofline**\n",
    "\n",
    "* The `North America` has **less number** of `Sales_Channel` of both **online and ofline**\n",
    "\n",
    "* The total number of `respondends are 5000` **online is 2540** and **ofline is 2496** the **little bit high is offline**\n",
    "\n",
    "* From the above data there `no na values` the total respondance will be placed\n",
    "\n",
    "* here we can see the graph between **Europe** and **Sub-Saharan Africa** we can observe there nort more difference"
   ]
  },
  {
   "cell_type": "code",
   "execution_count": 11,
   "id": "78763a99",
   "metadata": {},
   "outputs": [
    {
     "data": {
      "text/plain": [
       "array(['Baby Food', 'Snacks', 'Beverages', 'Cereal', 'Personal Care',\n",
       "       'Clothes', 'Office Supplies', 'Cosmetics', 'Meat', 'Fruits',\n",
       "       'Vegetables', 'Household', nan], dtype=object)"
      ]
     },
     "execution_count": 11,
     "metadata": {},
     "output_type": "execute_result"
    }
   ],
   "source": [
    "df['Item_Type'].unique()"
   ]
  },
  {
   "cell_type": "code",
   "execution_count": 85,
   "id": "555efa9b",
   "metadata": {},
   "outputs": [
    {
     "data": {
      "text/html": [
       "<div>\n",
       "<style scoped>\n",
       "    .dataframe tbody tr th:only-of-type {\n",
       "        vertical-align: middle;\n",
       "    }\n",
       "\n",
       "    .dataframe tbody tr th {\n",
       "        vertical-align: top;\n",
       "    }\n",
       "\n",
       "    .dataframe thead tr th {\n",
       "        text-align: left;\n",
       "    }\n",
       "\n",
       "    .dataframe thead tr:last-of-type th {\n",
       "        text-align: right;\n",
       "    }\n",
       "</style>\n",
       "<table border=\"1\" class=\"dataframe\">\n",
       "  <thead>\n",
       "    <tr>\n",
       "      <th></th>\n",
       "      <th colspan=\"2\" halign=\"left\">mean</th>\n",
       "      <th colspan=\"2\" halign=\"left\">amax</th>\n",
       "    </tr>\n",
       "    <tr>\n",
       "      <th>Item_Type</th>\n",
       "      <th>False</th>\n",
       "      <th>True</th>\n",
       "      <th>False</th>\n",
       "      <th>True</th>\n",
       "    </tr>\n",
       "    <tr>\n",
       "      <th>Region</th>\n",
       "      <th></th>\n",
       "      <th></th>\n",
       "      <th></th>\n",
       "      <th></th>\n",
       "    </tr>\n",
       "  </thead>\n",
       "  <tbody>\n",
       "    <tr>\n",
       "      <th>Asia</th>\n",
       "      <td>346981.721242</td>\n",
       "      <td>834402.130000</td>\n",
       "      <td>1616861.88</td>\n",
       "      <td>1699926.99</td>\n",
       "    </tr>\n",
       "    <tr>\n",
       "      <th>Australia and Oceania</th>\n",
       "      <td>360697.147427</td>\n",
       "      <td>998762.778462</td>\n",
       "      <td>1590842.27</td>\n",
       "      <td>1696275.72</td>\n",
       "    </tr>\n",
       "    <tr>\n",
       "      <th>Central America and the Caribbean</th>\n",
       "      <td>344947.571741</td>\n",
       "      <td>855196.982000</td>\n",
       "      <td>1616033.23</td>\n",
       "      <td>1664283.64</td>\n",
       "    </tr>\n",
       "    <tr>\n",
       "      <th>Europe</th>\n",
       "      <td>336309.820847</td>\n",
       "      <td>813362.334825</td>\n",
       "      <td>1654814.05</td>\n",
       "      <td>1700448.60</td>\n",
       "    </tr>\n",
       "    <tr>\n",
       "      <th>Middle East and North Africa</th>\n",
       "      <td>336223.534529</td>\n",
       "      <td>895456.395532</td>\n",
       "      <td>1533665.42</td>\n",
       "      <td>1710011.45</td>\n",
       "    </tr>\n",
       "    <tr>\n",
       "      <th>North America</th>\n",
       "      <td>348200.018542</td>\n",
       "      <td>781319.619000</td>\n",
       "      <td>1614541.66</td>\n",
       "      <td>1703404.39</td>\n",
       "    </tr>\n",
       "    <tr>\n",
       "      <th>Sub-Saharan Africa</th>\n",
       "      <td>362644.580282</td>\n",
       "      <td>934083.021140</td>\n",
       "      <td>1651665.18</td>\n",
       "      <td>1726007.49</td>\n",
       "    </tr>\n",
       "  </tbody>\n",
       "</table>\n",
       "</div>"
      ],
      "text/plain": [
       "                                            mean                       amax  \\\n",
       "Item_Type                                  False          True        False   \n",
       "Region                                                                        \n",
       "Asia                               346981.721242  834402.130000  1616861.88   \n",
       "Australia and Oceania              360697.147427  998762.778462  1590842.27   \n",
       "Central America and the Caribbean  344947.571741  855196.982000  1616033.23   \n",
       "Europe                             336309.820847  813362.334825  1654814.05   \n",
       "Middle East and North Africa       336223.534529  895456.395532  1533665.42   \n",
       "North America                      348200.018542  781319.619000  1614541.66   \n",
       "Sub-Saharan Africa                 362644.580282  934083.021140  1651665.18   \n",
       "\n",
       "                                               \n",
       "Item_Type                               True   \n",
       "Region                                         \n",
       "Asia                               1699926.99  \n",
       "Australia and Oceania              1696275.72  \n",
       "Central America and the Caribbean  1664283.64  \n",
       "Europe                             1700448.60  \n",
       "Middle East and North Africa       1710011.45  \n",
       "North America                      1703404.39  \n",
       "Sub-Saharan Africa                 1726007.49  "
      ]
     },
     "execution_count": 85,
     "metadata": {},
     "output_type": "execute_result"
    }
   ],
   "source": [
    "pd.crosstab(index = df['Region'],\n",
    "            columns = df['Item_Type'] == 'Cosmetics',\n",
    "            values = df['Total_Profit'],\n",
    "            aggfunc = [np.mean,np.max])"
   ]
  },
  {
   "cell_type": "code",
   "execution_count": 88,
   "id": "c5868193",
   "metadata": {},
   "outputs": [
    {
     "data": {
      "text/plain": [
       "<Axes: xlabel='Region'>"
      ]
     },
     "execution_count": 88,
     "metadata": {},
     "output_type": "execute_result"
    },
    {
     "data": {
      "image/png": "[encoded data removed]",
      "text/plain": [
       "<Figure size 640x480 with 1 Axes>"
      ]
     },
     "metadata": {},
     "output_type": "display_data"
    }
   ],
   "source": [
    "pd.crosstab(index = df['Region'],\n",
    "            columns = df['Item_Type'] == 'Cosmetics',\n",
    "            values = df['Total_Profit'],\n",
    "            aggfunc = [np.mean]).plot(kind = 'bar')"
   ]
  },
  {
   "cell_type": "markdown",
   "id": "68246797",
   "metadata": {},
   "source": [
    "# insights:\n",
    "\n",
    "* from above data we can see that on which `region` the `iteam_type` is `cosmetics` of `total_profit` mean values \n",
    "\n",
    "* on above data **most of the people were use cosmetics** it is define bye true we can see in graph\n",
    "\n",
    "* the highest mean of the cosmetics occurs in `Australia and Oceania` will average most of sales of cosmetics and the median of this region is higher than other so we says that from these will get high profit\n",
    "\n",
    "* when compare to other region the`North America` mean and median little less so this region will get little bit less profit on averagly\n",
    "\n",
    "* finally we know that the **cosmetics are heavy sales in every region** the graphs says that the True value is more high than false value\n",
    "\n",
    "* in Every region cosmetics have high demand and high sales and get high profits"
   ]
  },
  {
   "cell_type": "code",
   "execution_count": 25,
   "id": "ade0ff80",
   "metadata": {},
   "outputs": [
    {
     "data": {
      "text/plain": [
       "Index(['Region', 'Country', 'Item_Type', 'Sales_Channel', 'Order_Priority',\n",
       "       'Order_Date', 'Order_ID', 'Ship_Date', 'Units_Sold',\n",
       "       'Unit_SellingPrice', 'Unit_MakingCost', 'Total_Revenue', 'Total_Cost',\n",
       "       'Total_Profit'],\n",
       "      dtype='object')"
      ]
     },
     "execution_count": 25,
     "metadata": {},
     "output_type": "execute_result"
    }
   ],
   "source": [
    "df.columns"
   ]
  },
  {
   "cell_type": "code",
   "execution_count": 74,
   "id": "c43ca884",
   "metadata": {},
   "outputs": [
    {
     "data": {
      "text/html": [
       "<div>\n",
       "<style scoped>\n",
       "    .dataframe tbody tr th:only-of-type {\n",
       "        vertical-align: middle;\n",
       "    }\n",
       "\n",
       "    .dataframe tbody tr th {\n",
       "        vertical-align: top;\n",
       "    }\n",
       "\n",
       "    .dataframe thead th {\n",
       "        text-align: right;\n",
       "    }\n",
       "</style>\n",
       "<table border=\"1\" class=\"dataframe\">\n",
       "  <thead>\n",
       "    <tr style=\"text-align: right;\">\n",
       "      <th></th>\n",
       "      <th>Region</th>\n",
       "      <th>Country</th>\n",
       "      <th>Item_Type</th>\n",
       "      <th>Sales_Channel</th>\n",
       "      <th>Order_Priority</th>\n",
       "      <th>Order_Date</th>\n",
       "      <th>Order_ID</th>\n",
       "      <th>Ship_Date</th>\n",
       "      <th>Units_Sold</th>\n",
       "      <th>Unit_SellingPrice</th>\n",
       "      <th>Unit_MakingCost</th>\n",
       "      <th>Total_Revenue</th>\n",
       "      <th>Total_Cost</th>\n",
       "      <th>Total_Profit</th>\n",
       "    </tr>\n",
       "  </thead>\n",
       "  <tbody>\n",
       "    <tr>\n",
       "      <th>0</th>\n",
       "      <td>Central America and the Caribbean</td>\n",
       "      <td>Antigua and Barbuda</td>\n",
       "      <td>Baby Food</td>\n",
       "      <td>Online</td>\n",
       "      <td>M</td>\n",
       "      <td>12/20/2013</td>\n",
       "      <td>957081544.0</td>\n",
       "      <td>01-11-2014</td>\n",
       "      <td>552</td>\n",
       "      <td>255.28</td>\n",
       "      <td>159.42</td>\n",
       "      <td>140914.56</td>\n",
       "      <td>87999.84</td>\n",
       "      <td>52914.72</td>\n",
       "    </tr>\n",
       "  </tbody>\n",
       "</table>\n",
       "</div>"
      ],
      "text/plain": [
       "                              Region               Country  Item_Type  \\\n",
       "0  Central America and the Caribbean  Antigua and Barbuda   Baby Food   \n",
       "\n",
       "  Sales_Channel Order_Priority  Order_Date     Order_ID   Ship_Date  \\\n",
       "0        Online              M  12/20/2013  957081544.0  01-11-2014   \n",
       "\n",
       "   Units_Sold  Unit_SellingPrice  Unit_MakingCost  Total_Revenue  Total_Cost  \\\n",
       "0         552             255.28           159.42      140914.56    87999.84   \n",
       "\n",
       "   Total_Profit  \n",
       "0      52914.72  "
      ]
     },
     "execution_count": 74,
     "metadata": {},
     "output_type": "execute_result"
    }
   ],
   "source": [
    "df.head(1)"
   ]
  },
  {
   "cell_type": "code",
   "execution_count": 73,
   "id": "633257c8",
   "metadata": {},
   "outputs": [
    {
     "data": {
      "text/plain": [
       "(140914.56, 211152.47999999998)"
      ]
     },
     "execution_count": 73,
     "metadata": {},
     "output_type": "execute_result"
    }
   ],
   "source": []
  },
  {
   "cell_type": "code",
   "execution_count": 42,
   "id": "89bd64a9",
   "metadata": {},
   "outputs": [
    {
     "data": {
      "text/plain": [
       "array(['Baby Food', 'Snacks', 'Beverages', 'Cereal', 'Personal Care',\n",
       "       'Clothes', 'Office Supplies', 'Cosmetics', 'Meat', 'Fruits',\n",
       "       'Vegetables', 'Household', nan], dtype=object)"
      ]
     },
     "execution_count": 42,
     "metadata": {},
     "output_type": "execute_result"
    }
   ],
   "source": [
    "df['Item_Type'].unique()"
   ]
  },
  {
   "cell_type": "code",
   "execution_count": 76,
   "id": "46c77634",
   "metadata": {},
   "outputs": [
    {
     "data": {
      "text/html": [
       "<div>\n",
       "<style scoped>\n",
       "    .dataframe tbody tr th:only-of-type {\n",
       "        vertical-align: middle;\n",
       "    }\n",
       "\n",
       "    .dataframe tbody tr th {\n",
       "        vertical-align: top;\n",
       "    }\n",
       "\n",
       "    .dataframe thead tr th {\n",
       "        text-align: left;\n",
       "    }\n",
       "\n",
       "    .dataframe thead tr:last-of-type th {\n",
       "        text-align: right;\n",
       "    }\n",
       "</style>\n",
       "<table border=\"1\" class=\"dataframe\">\n",
       "  <thead>\n",
       "    <tr>\n",
       "      <th></th>\n",
       "      <th colspan=\"12\" halign=\"left\">mean</th>\n",
       "    </tr>\n",
       "    <tr>\n",
       "      <th>Item_Type</th>\n",
       "      <th>Baby Food</th>\n",
       "      <th>Beverages</th>\n",
       "      <th>Cereal</th>\n",
       "      <th>Clothes</th>\n",
       "      <th>Cosmetics</th>\n",
       "      <th>Fruits</th>\n",
       "      <th>Household</th>\n",
       "      <th>Meat</th>\n",
       "      <th>Office Supplies</th>\n",
       "      <th>Personal Care</th>\n",
       "      <th>Snacks</th>\n",
       "      <th>Vegetables</th>\n",
       "    </tr>\n",
       "    <tr>\n",
       "      <th>Region</th>\n",
       "      <th></th>\n",
       "      <th></th>\n",
       "      <th></th>\n",
       "      <th></th>\n",
       "      <th></th>\n",
       "      <th></th>\n",
       "      <th></th>\n",
       "      <th></th>\n",
       "      <th></th>\n",
       "      <th></th>\n",
       "      <th></th>\n",
       "      <th></th>\n",
       "    </tr>\n",
       "  </thead>\n",
       "  <tbody>\n",
       "    <tr>\n",
       "      <th>Asia</th>\n",
       "      <td>513124.885714</td>\n",
       "      <td>72255.240000</td>\n",
       "      <td>438688.966230</td>\n",
       "      <td>364071.953898</td>\n",
       "      <td>834402.130000</td>\n",
       "      <td>12627.422973</td>\n",
       "      <td>912172.740938</td>\n",
       "      <td>254483.859259</td>\n",
       "      <td>599340.312500</td>\n",
       "      <td>131035.662456</td>\n",
       "      <td>251313.609474</td>\n",
       "      <td>394035.938409</td>\n",
       "    </tr>\n",
       "    <tr>\n",
       "      <th>Australia and Oceania</th>\n",
       "      <td>565247.557838</td>\n",
       "      <td>79046.832857</td>\n",
       "      <td>488271.601765</td>\n",
       "      <td>350437.320000</td>\n",
       "      <td>998762.778462</td>\n",
       "      <td>11122.953333</td>\n",
       "      <td>676104.257632</td>\n",
       "      <td>294339.760000</td>\n",
       "      <td>640532.380952</td>\n",
       "      <td>134459.894074</td>\n",
       "      <td>236587.360000</td>\n",
       "      <td>335545.814063</td>\n",
       "    </tr>\n",
       "    <tr>\n",
       "      <th>Central America and the Caribbean</th>\n",
       "      <td>532272.681860</td>\n",
       "      <td>72931.951915</td>\n",
       "      <td>480907.862000</td>\n",
       "      <td>377029.944000</td>\n",
       "      <td>855196.982000</td>\n",
       "      <td>12142.734792</td>\n",
       "      <td>825181.232558</td>\n",
       "      <td>252061.680000</td>\n",
       "      <td>596811.805556</td>\n",
       "      <td>136674.602105</td>\n",
       "      <td>294560.226383</td>\n",
       "      <td>325274.896923</td>\n",
       "    </tr>\n",
       "    <tr>\n",
       "      <th>Europe</th>\n",
       "      <td>481616.046071</td>\n",
       "      <td>79352.584959</td>\n",
       "      <td>401305.751765</td>\n",
       "      <td>413631.565714</td>\n",
       "      <td>813362.334825</td>\n",
       "      <td>12731.513571</td>\n",
       "      <td>752190.379072</td>\n",
       "      <td>274856.821622</td>\n",
       "      <td>633960.782520</td>\n",
       "      <td>122461.185614</td>\n",
       "      <td>262402.159223</td>\n",
       "      <td>322596.515088</td>\n",
       "    </tr>\n",
       "    <tr>\n",
       "      <th>Middle East and North Africa</th>\n",
       "      <td>451095.674138</td>\n",
       "      <td>81298.707907</td>\n",
       "      <td>475882.861277</td>\n",
       "      <td>356819.589818</td>\n",
       "      <td>895456.395532</td>\n",
       "      <td>11844.186000</td>\n",
       "      <td>788383.528929</td>\n",
       "      <td>306178.600000</td>\n",
       "      <td>564881.577381</td>\n",
       "      <td>127075.803448</td>\n",
       "      <td>262676.401277</td>\n",
       "      <td>308151.146275</td>\n",
       "    </tr>\n",
       "    <tr>\n",
       "      <th>North America</th>\n",
       "      <td>361761.945714</td>\n",
       "      <td>97711.172308</td>\n",
       "      <td>349162.720000</td>\n",
       "      <td>293936.256000</td>\n",
       "      <td>781319.619000</td>\n",
       "      <td>8448.388889</td>\n",
       "      <td>846880.300000</td>\n",
       "      <td>301249.520000</td>\n",
       "      <td>688556.979167</td>\n",
       "      <td>96561.748889</td>\n",
       "      <td>184253.373333</td>\n",
       "      <td>261619.738571</td>\n",
       "    </tr>\n",
       "    <tr>\n",
       "      <th>Sub-Saharan Africa</th>\n",
       "      <td>474466.355360</td>\n",
       "      <td>76068.962243</td>\n",
       "      <td>471871.151124</td>\n",
       "      <td>368257.040899</td>\n",
       "      <td>934083.021140</td>\n",
       "      <td>13845.830526</td>\n",
       "      <td>894423.907117</td>\n",
       "      <td>268255.416000</td>\n",
       "      <td>685189.489130</td>\n",
       "      <td>134538.938545</td>\n",
       "      <td>283308.228119</td>\n",
       "      <td>297468.560000</td>\n",
       "    </tr>\n",
       "  </tbody>\n",
       "</table>\n",
       "</div>"
      ],
      "text/plain": [
       "                                            mean                               \\\n",
       "Item_Type                              Baby Food     Beverages         Cereal   \n",
       "Region                                                                          \n",
       "Asia                               513124.885714  72255.240000  438688.966230   \n",
       "Australia and Oceania              565247.557838  79046.832857  488271.601765   \n",
       "Central America and the Caribbean  532272.681860  72931.951915  480907.862000   \n",
       "Europe                             481616.046071  79352.584959  401305.751765   \n",
       "Middle East and North Africa       451095.674138  81298.707907  475882.861277   \n",
       "North America                      361761.945714  97711.172308  349162.720000   \n",
       "Sub-Saharan Africa                 474466.355360  76068.962243  471871.151124   \n",
       "\n",
       "                                                                               \\\n",
       "Item_Type                                Clothes      Cosmetics        Fruits   \n",
       "Region                                                                          \n",
       "Asia                               364071.953898  834402.130000  12627.422973   \n",
       "Australia and Oceania              350437.320000  998762.778462  11122.953333   \n",
       "Central America and the Caribbean  377029.944000  855196.982000  12142.734792   \n",
       "Europe                             413631.565714  813362.334825  12731.513571   \n",
       "Middle East and North Africa       356819.589818  895456.395532  11844.186000   \n",
       "North America                      293936.256000  781319.619000   8448.388889   \n",
       "Sub-Saharan Africa                 368257.040899  934083.021140  13845.830526   \n",
       "\n",
       "                                                                 \\\n",
       "Item_Type                              Household           Meat   \n",
       "Region                                                            \n",
       "Asia                               912172.740938  254483.859259   \n",
       "Australia and Oceania              676104.257632  294339.760000   \n",
       "Central America and the Caribbean  825181.232558  252061.680000   \n",
       "Europe                             752190.379072  274856.821622   \n",
       "Middle East and North Africa       788383.528929  306178.600000   \n",
       "North America                      846880.300000  301249.520000   \n",
       "Sub-Saharan Africa                 894423.907117  268255.416000   \n",
       "\n",
       "                                                                  \\\n",
       "Item_Type                         Office Supplies  Personal Care   \n",
       "Region                                                             \n",
       "Asia                                599340.312500  131035.662456   \n",
       "Australia and Oceania               640532.380952  134459.894074   \n",
       "Central America and the Caribbean   596811.805556  136674.602105   \n",
       "Europe                              633960.782520  122461.185614   \n",
       "Middle East and North Africa        564881.577381  127075.803448   \n",
       "North America                       688556.979167   96561.748889   \n",
       "Sub-Saharan Africa                  685189.489130  134538.938545   \n",
       "\n",
       "                                                                 \n",
       "Item_Type                                 Snacks     Vegetables  \n",
       "Region                                                           \n",
       "Asia                               251313.609474  394035.938409  \n",
       "Australia and Oceania              236587.360000  335545.814063  \n",
       "Central America and the Caribbean  294560.226383  325274.896923  \n",
       "Europe                             262402.159223  322596.515088  \n",
       "Middle East and North Africa       262676.401277  308151.146275  \n",
       "North America                      184253.373333  261619.738571  \n",
       "Sub-Saharan Africa                 283308.228119  297468.560000  "
      ]
     },
     "execution_count": 76,
     "metadata": {},
     "output_type": "execute_result"
    }
   ],
   "source": [
    "pd.crosstab(index = df['Region'],\n",
    "            columns = df['Item_Type'],\n",
    "            values = df['Total_Profit'],\n",
    "            aggfunc=[np.mean])"
   ]
  },
  {
   "cell_type": "markdown",
   "id": "a6088c01",
   "metadata": {},
   "source": [
    "# insights:\n",
    "\n",
    "* In `Asia` the **Household** iteam_type got more profit it place a high avarage value when compare to another iteams and least profit will got on **fruits** iteam_type.\n",
    "\n",
    "* In `Australia and Oceania` the **Cosmetics** iteam_type got more profit it place a high avarage value when compare to another iteams and least profit will got on **fruits** iteam_type.\n",
    "\n",
    "* In `Central America and the Caribbean` the **Cosmetics** iteam_type got more profit it place a high avarage value when compare to another iteams and least profit will got on **fruits** iteam_type.\n",
    "\n",
    "* In `Europe` the **Cosmetics** iteam_type got more profit it place a high avarage value when compare to another iteams and least profit will got on **fruits** iteam_type.\n",
    "\n",
    "* In `Middle East and North Africa` the **Cosmetics** iteam_type got more profit it place a high avarage value when compare to another iteams and least profit will got on **fruits** iteam_type.\n",
    "\n",
    "* In `North America` the **Household** iteam_type got more profit it place a high avarage value when compare to another iteams and least profit will got on **fruits** iteam_type.\n",
    "\n",
    "* In `Sub-Saharan Africa` the **Household** iteam_type got more profit it place a high avarage value when compare to another iteams and least profit will got on **fruits** iteam_type.\n",
    "\n",
    "* The oveall review of data we can observe that the **fruits will get less profit** in every region and the **hight profit will occurs at Cosmetics and Household.**"
   ]
  },
  {
   "cell_type": "code",
   "execution_count": null,
   "id": "e3611ba1",
   "metadata": {},
   "outputs": [],
   "source": []
  },
  {
   "cell_type": "code",
   "execution_count": null,
   "id": "3b078cfb",
   "metadata": {},
   "outputs": [],
   "source": []
  }
 ],
 "metadata": {
  "kernelspec": {
   "display_name": "Python 3 (ipykernel)",
   "language": "python",
   "name": "python3"
  },
  "language_info": {
   "codemirror_mode": {
    "name": "ipython",
    "version": 3
   },
   "file_extension": ".py",
   "mimetype": "text/x-python",
   "name": "python",
   "nbconvert_exporter": "python",
   "pygments_lexer": "ipython3",
   "version": "3.10.9"
  }
 },
 "nbformat": 4,
 "nbformat_minor": 5
}
